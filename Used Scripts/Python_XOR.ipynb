{
  "nbformat": 4,
  "nbformat_minor": 0,
  "metadata": {
    "colab": {
      "provenance": []
    },
    "kernelspec": {
      "name": "python3",
      "display_name": "Python 3"
    },
    "language_info": {
      "name": "python"
    }
  },
  "cells": [
    {
      "cell_type": "code",
      "source": [
        "from string import punctuation\n",
        "\n",
        "alphabet = list(punctuation)\n",
        "data = \"bHEC_T]PLKJ{MW{AdW]Y\"\n",
        "\n",
        "def decrypt_with_key(key):\n",
        "    decrypted = ''.join([chr(ord(x) ^ ord(key)) for x in data])\n",
        "    return decrypted\n",
        "\n",
        "def main():\n",
        "    for possible_key in alphabet:  # 모든 가능한 키 조합을 시도\n",
        "        decrypted_data = decrypt_with_key(possible_key)\n",
        "        print(f\"Key: {possible_key}, Decrypted Data: {decrypted_data}\")\n",
        "\n",
        "main()"
      ],
      "metadata": {
        "colab": {
          "base_uri": "https://localhost:8080/"
        },
        "id": "mzkQi91p2rlc",
        "outputId": "9b25b09c-03ce-4a62-a8b5-aef52e7f820e"
      },
      "execution_count": 2,
      "outputs": [
        {
          "output_type": "stream",
          "name": "stdout",
          "text": [
            "Key: !, Decrypted Data: Cidb~u|qmjkZlvZ`Ev|x\n",
            "Key: \", Decrypted Data: @jga}vrnihYouYcFu{\n",
            "Key: #, Decrypted Data: Akf`|w~sohiXntXbGt~z\n",
            "Key: $, Decrypted Data: Flag{python_is_e@sy}\n",
            "Key: %, Decrypted Data: Gm`fzqxuino^hr^dArx|\n",
            "Key: &, Decrypted Data: Dnceyr{vjml]kq]gBq{\n",
            "Key: ', Decrypted Data: Eobdxszwklm\\jp\\fCpz~\n",
            "Key: (, Decrypted Data: J`mkw|uxdcbSeSiLuq\n",
            "Key: ), Decrypted Data: Kaljv}tyebcRd~RhM~tp\n",
            "Key: *, Decrypted Data: Hboiu~wzfa`Qg}QkN}ws\n",
            "Key: +, Decrypted Data: Icnhtv{g`aPf|PjO|vr\n",
            "Key: ,, Decrypted Data: Ndiosxq|`gfWa{WmH{qu\n",
            "Key: -, Decrypted Data: Oehnryp}afgV`zVlIzpt\n",
            "Key: ., Decrypted Data: Lfkmqzs~bedUcyUoJysw\n",
            "Key: /, Decrypted Data: Mgjlp{rcdeTbxTnKxrv\n",
            "Key: :, Decrypted Data: XryengjvqpAwmA{^mgc\n",
            "Key: ;, Decrypted Data: Ys~xdofkwpq@vl@z_lfb\n",
            "Key: <, Decrypted Data: ^tychalpwvGqkG}Xkae\n",
            "Key: =, Decrypted Data: _ux~bi`mqvwFpjF|Yj`d\n",
            "Key: >, Decrypted Data: \\v{}ajcnrutEsiEZicg\n",
            "Key: ?, Decrypted Data: ]wz|`kbostuDrhD~[hbf\n",
            "Key: @, Decrypted Data: \"\b\u0005\u0003\u001f\u0014\u001d\u0010\f\u000b\n",
            ";\r\u0017;\u0001$\u0017\u001d\u0019\n",
            "Key: [, Decrypted Data: 9\u0013\u001e\u0018\u0004\u000f\u0006\u000b\u0017\u0010\u0011 \u0016\f \u001a?\f\u0006\u0002\n",
            "Key: \\, Decrypted Data: >\u0014\u0019\u001f\u0003\b\u0001\f\u0010\u0017\u0016'\u0011\u000b'\u001d8\u000b\u0001\u0005\n",
            "Key: ], Decrypted Data: ?\u0015\u0018\u001e\u0002\t\u0000\r\u0011\u0016\u0017&\u0010\n",
            "&\u001c9\n",
            "\u0000\u0004\n",
            "Key: ^, Decrypted Data: <\u0016\u001b\u001d\u0001\n",
            "\u0003\u000e\u0012\u0015\u0014%\u0013\t%\u001f:\t\u0003\u0007\n",
            "Key: _, Decrypted Data: =\u0017\u001a\u001c\u0000\u000b\u0002\u000f\u0013\u0014\u0015$\u0012\b$\u001e;\b\u0002\u0006\n",
            "Key: `, Decrypted Data: \u0002(%#?4=0,+*\u001b-7\u001b!\u00047=9\n",
            "Key: {, Decrypted Data: \u00193>8$/&+701\u00006,\u0000:\u001f,&\"\n",
            "Key: |, Decrypted Data: \u001e49?#(!,076\u00071+\u0007=\u0018+!%\n",
            "Key: }, Decrypted Data: \u001f58>\") -167\u00060*\u0006<\u0019* $\n",
            "Key: ~, Decrypted Data: \u001c6;=!*#.254\u00053)\u0005?\u001a)#'\n"
          ]
        }
      ]
    }
  ]
}